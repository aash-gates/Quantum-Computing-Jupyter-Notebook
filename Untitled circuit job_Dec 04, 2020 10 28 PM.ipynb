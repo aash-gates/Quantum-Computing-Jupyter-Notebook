{
  "cells": [
    {
      "cell_type": "code",
      "execution_count": null,
      "metadata": {
        "trusted": true
      },
      "outputs": [],
      "source": "%matplotlib inline\n# Importing standard Qiskit libraries and configuring account\nfrom qiskit import QuantumCircuit, execute, Aer, IBMQ\nfrom qiskit.compiler import transpile, assemble\nfrom qiskit.tools.jupyter import *\nfrom qiskit.visualization import *\n# Loading your IBM Q account(s)\nprovider = IBMQ.load_account()"
    },
    {
      "cell_type": "code",
      "execution_count": 2,
      "metadata": {
        "trusted": true
      },
      "outputs": [],
      "source": "from qiskit import QuantumRegister, ClassicalRegister, QuantumCircuit\nfrom numpy import pi\n\nqreg_q = QuantumRegister(5, 'q')\ncreg_c = ClassicalRegister(3, 'c')\ncircuit = QuantumCircuit(qreg_q, creg_c)\n\ncircuit.u2(0, 3.141592653589793, qreg_q[0])\ncircuit.u2(3.141592653589793, 3.141592653589793, qreg_q[1])\ncircuit.u2(0, 3.141592653589793, qreg_q[2])\ncircuit.cx(qreg_q[2], qreg_q[1])\ncircuit.cx(qreg_q[1], qreg_q[2])\ncircuit.cx(qreg_q[2], qreg_q[1])\ncircuit.cx(qreg_q[1], qreg_q[2])\ncircuit.cx(qreg_q[1], qreg_q[0])\ncircuit.u1(3.141592653589793, qreg_q[0])\ncircuit.barrier(qreg_q[0], qreg_q[2], qreg_q[1], qreg_q[3], qreg_q[4])\ncircuit.measure(qreg_q[2], creg_c[1])\ncircuit.measure(qreg_q[0], creg_c[2])"
    }
  ],
  "metadata": {
    "kernelspec": {
      "display_name": "Python 3",
      "language": "python",
      "name": "python3"
    },
    "language_info": {
      "codemirror_mode": {
        "name": "ipython",
        "version": 3
      },
      "file_extension": ".py",
      "mimetype": "text/x-python",
      "name": "python",
      "nbconvert_exporter": "python",
      "pygments_lexer": "ipython3",
      "version": "3.7.8"
    }
  },
  "nbformat": 4,
  "nbformat_minor": 4
}